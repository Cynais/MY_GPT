{
 "cells": [
  {
   "cell_type": "code",
   "execution_count": null,
   "metadata": {},
   "outputs": [
    {
     "data": {
      "text/plain": [
       "Traceback (most recent call last):\n",
       "  File \"/home/cynais/.vscode-server/extensions/ms-python.python-2024.22.2-linux-x64/python_files/python_server.py\", line 133, in exec_user_input\n",
       "    retval = callable_(user_input, user_globals)\n",
       "             ^^^^^^^^^^^^^^^^^^^^^^^^^^^^^^^^^^^\n",
       "  File \"<string>\", line 1, in <module>\n",
       "NameError: name 'chars' is not defined. Did you mean: 'vars'?\n",
       "\n"
      ]
     },
     "metadata": {},
     "output_type": "display_data"
    }
   ],
   "source": [
    "idx2char = {i:u for i, u in enumerate(chars)}\n"
   ]
  },
  {
   "cell_type": "code",
   "execution_count": null,
   "metadata": {},
   "outputs": [
    {
     "data": {
      "text/plain": [
       "Traceback (most recent call last):\n",
       "  File \"/home/cynais/.vscode-server/extensions/ms-python.python-2024.22.2-linux-x64/python_files/python_server.py\", line 133, in exec_user_input\n",
       "    retval = callable_(user_input, user_globals)\n",
       "             ^^^^^^^^^^^^^^^^^^^^^^^^^^^^^^^^^^^\n",
       "  File \"<string>\", line 1, in <module>\n",
       "NameError: name 'chars' is not defined. Did you mean: 'vars'?\n",
       "\n"
      ]
     },
     "metadata": {},
     "output_type": "display_data"
    }
   ],
   "source": [
    "idx2char = {i:u for i, u in enumerate(chars)}\n"
   ]
  },
  {
   "cell_type": "code",
   "execution_count": null,
   "metadata": {},
   "outputs": [
    {
     "data": {
      "text/plain": [
       "Traceback (most recent call last):\n",
       "  File \"/home/cynais/.vscode-server/extensions/ms-python.python-2024.22.2-linux-x64/python_files/python_server.py\", line 133, in exec_user_input\n",
       "    retval = callable_(user_input, user_globals)\n",
       "             ^^^^^^^^^^^^^^^^^^^^^^^^^^^^^^^^^^^\n",
       "  File \"<string>\", line 2, in <module>\n",
       "NameError: name '__file__' is not defined. Did you mean: '__name__'?\n",
       "\n"
      ]
     },
     "metadata": {},
     "output_type": "display_data"
    }
   ],
   "source": [
    "from pathlib import Path\n",
    "script_dir = Path(__file__).resolve().parent\n",
    "project_dir = script_dir.parent\n",
    "data_file = project_dir / \"data\" / \"raw\" / \"input.txt\"\n",
    "with data_file.open( 'r', encoding='utf-8') as f:\n",
    "    text = f.read()\n",
    "\n",
    "print(\"La longeur du dataset en character est de: \", len(text))\n",
    "chars = sorted(list(set(text)))\n",
    "vocab_size = len(chars)\n",
    "print(''.join(chars))\n",
    "print(chars)\n",
    "print(vocab_size)\n",
    "char2idx = {u:i for i, u in enumerate(chars)}\n",
    "idx2char = {i:u for i, u in enumerate(chars)}\n",
    "text_as_int = lambda text: [char2idx[c] for c in text]\n",
    "int_as_text = lambda int: \"\".join([idx2char[c] for c in int])\n",
    "print(text_as_int(\"Bonjour je test ma fonction d'encodage\"))\n",
    "print(int_as_text(text_as_int(\"Bonjour je test ma fonction d'encodage et decodage\")))\n"
   ]
  },
  {
   "cell_type": "code",
   "execution_count": null,
   "metadata": {},
   "outputs": [],
   "source": [
    "from pathlib import Path"
   ]
  },
  {
   "cell_type": "code",
   "execution_count": null,
   "metadata": {},
   "outputs": [],
   "source": []
  }
 ],
 "metadata": {
  "language_info": {
   "name": "python"
  }
 },
 "nbformat": 4,
 "nbformat_minor": 2
}
